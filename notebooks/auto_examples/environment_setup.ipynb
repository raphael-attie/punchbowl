{
  "cells": [
    {
      "cell_type": "markdown",
      "metadata": {},
      "source": [
        "\n# Environment setup\n\nTo run the sample notebooks contained within punchbowl, you must first create a Python environment.\n"
      ]
    },
    {
      "cell_type": "markdown",
      "metadata": {},
      "source": [
        "To run the sample notebooks contained within punchbowl, you must first create a Python environment. These days, it's recommended to have a local virtual environment for a project rather than a global configuration.\nIf using an environment for running Jupyter notebooks (Visual Studio Code, PyCharm, etc), this environment setup may be handled automatically or through UI prompts on notebook execution.\nNote that for a full environment setup, including full PUNCH requirements, see the instructions linked at the [punch-mission README](https://github.com/punch-mission/punch-mission?tab=readme-ov-file#setting-up-the-punch-environment).\n\n"
      ]
    },
    {
      "cell_type": "markdown",
      "metadata": {},
      "source": [
        "To set up manually, start within a terminal, and navigate to the directory in which you want to work with notebooks.\nBegin by setting up a virtual environment within the specified directory. Here we'll setup a hidden directory .venv\n\n```shell\npython -m venv .venv\n```\n"
      ]
    },
    {
      "cell_type": "markdown",
      "metadata": {},
      "source": [
        "Next activate the virtual environment by executing the activation script. Note that when returning to this environment in future, you'll also need to activate the environment once again.\n\n```shell\nsource .venv/bin/activate\n```\n"
      ]
    },
    {
      "cell_type": "markdown",
      "metadata": {},
      "source": [
        "To get started quickly with punchbowl, one can install a few packages using pip. Other packages of note can be installed in this same way.\n\n```shell\npip install ipykernel jupyter punchbowl\n```\n"
      ]
    },
    {
      "cell_type": "markdown",
      "metadata": {},
      "source": [
        "From here, one can open a downloaded notebook in an editor of choice (selecting the local virtual environment), or by calling jupyter directly.\n\n```shell\njupyter downloaded_notebook.ipynb\n```\n"
      ]
    }
  ],
  "metadata": {
    "kernelspec": {
      "display_name": "Python 3",
      "language": "python",
      "name": "python3"
    },
    "language_info": {
      "codemirror_mode": {
        "name": "ipython",
        "version": 3
      },
      "file_extension": ".py",
      "mimetype": "text/x-python",
      "name": "python",
      "nbconvert_exporter": "python",
      "pygments_lexer": "ipython3",
      "version": "3.12.11"
    }
  },
  "nbformat": 4,
  "nbformat_minor": 0
}