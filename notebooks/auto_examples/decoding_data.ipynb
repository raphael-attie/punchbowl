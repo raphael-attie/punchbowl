{
  "cells": [
    {
      "cell_type": "markdown",
      "metadata": {},
      "source": [
        "\n# Decoding square root encoded data\n\nData downlinked from the individual PUNCH spacecraft are usually square root encoded. This decoding is completed as part of the regular data processing pipeline for end-user data products. If using Level 0 manually, you may want to decode this data manually, as outlined here.\n"
      ]
    },
    {
      "cell_type": "markdown",
      "metadata": {},
      "source": [
        "Data downlinked from the individual PUNCH spacecraft are usually square root encoded. This decoding is completed as part of the regular data processing pipeline for end-user data products. If using Level 0 manually, you may want to decode this data manually, as outlined here.\n\n"
      ]
    },
    {
      "cell_type": "markdown",
      "metadata": {},
      "source": [
        "Load libraries\n\n"
      ]
    },
    {
      "cell_type": "code",
      "execution_count": null,
      "metadata": {
        "collapsed": false
      },
      "outputs": [],
      "source": [
        "import astropy.units as u\nimport matplotlib.pyplot as plt\nimport numpy as np\nfrom matplotlib.colors import LogNorm\n\nfrom punchbowl.data import load_ndcube_from_fits\nfrom punchbowl.data.sample import PUNCH_DK4\nfrom punchbowl.data.visualize import cmap_punch\nfrom punchbowl.level1.sqrt import decode_sqrt"
      ]
    },
    {
      "cell_type": "markdown",
      "metadata": {},
      "source": [
        "We can begin by loading sample data into an NDCube object. Here we'll load a sample level 0 LED dark image from NFI. Note that if running with downloaded PUNCH data, replace the sample PUNCH_DK4 data below with a path pointing towards a FITS file.\n\n"
      ]
    },
    {
      "cell_type": "code",
      "execution_count": null,
      "metadata": {
        "collapsed": false
      },
      "outputs": [],
      "source": [
        "cube = load_ndcube_from_fits(PUNCH_DK4)"
      ]
    },
    {
      "cell_type": "markdown",
      "metadata": {},
      "source": [
        "Note that for level 0 data the data is still square-root encoded, and will be unpacked in subsequent levels. You can manually decoded this data with the same pipeline function.\n\n"
      ]
    },
    {
      "cell_type": "code",
      "execution_count": null,
      "metadata": {
        "collapsed": false
      },
      "outputs": [],
      "source": [
        "data_decoded = decode_sqrt(cube.data,\n                      from_bits = 16,\n                      to_bits = 11,\n                      ccd_gain_top = 4.94,\n                      ccd_gain_bottom = 4.89,\n                      ccd_offset = 400,\n                      ccd_read_noise = 17\n                    )"
      ]
    },
    {
      "cell_type": "markdown",
      "metadata": {},
      "source": [
        "Now that we have this data square-root decoded, we can plot the image.\n\n"
      ]
    },
    {
      "cell_type": "code",
      "execution_count": null,
      "metadata": {
        "collapsed": false
      },
      "outputs": [],
      "source": [
        "fig, ax = plt.subplots(figsize=(9.5, 7.5), subplot_kw={\"projection\":cube.wcs})\n\nim = ax.imshow(data_decoded, cmap=cmap_punch, norm=LogNorm(vmax=450))\n\nlon, lat = ax.coords\nlat.set_major_formatter(\"dd\")\nlon.set_major_formatter(\"dd\")\nax.set_facecolor(\"black\")\nax.coords.grid(color=\"white\", alpha=.25, ls=\"dotted\")\nax.set_xlabel(\"Helioprojective longitude\")\nax.set_ylabel(\"Helioprojective latitude\")\nax.set_title(\"PUNCH Level 0 LED Image\")\nfig.colorbar(im, ax=ax, label=\"DN\")\nplt.show()"
      ]
    }
  ],
  "metadata": {
    "kernelspec": {
      "display_name": "Python 3",
      "language": "python",
      "name": "python3"
    },
    "language_info": {
      "codemirror_mode": {
        "name": "ipython",
        "version": 3
      },
      "file_extension": ".py",
      "mimetype": "text/x-python",
      "name": "python",
      "nbconvert_exporter": "python",
      "pygments_lexer": "ipython3",
      "version": "3.12.11"
    }
  },
  "nbformat": 4,
  "nbformat_minor": 0
}