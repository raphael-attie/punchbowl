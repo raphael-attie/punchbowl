{
  "cells": [
    {
      "cell_type": "markdown",
      "metadata": {},
      "source": [
        "\n# Overplotting Parker Solar Probe and Solar Orbiter Trajectories on PUNCH Images\n\nThis notebook demonstrates how to overplot spacecraft trajectories on a sample PUNCH image.\n\nFirst, we project the spacecraft positions onto the images directly.\n\nSecond, we show how to plot in 3D the trajectories and the images assuming the pixel intensity can be associated with the Thomson sphere\n"
      ]
    },
    {
      "cell_type": "markdown",
      "metadata": {},
      "source": [
        "Import Required Libraries\n\n"
      ]
    },
    {
      "cell_type": "code",
      "execution_count": null,
      "metadata": {
        "collapsed": false
      },
      "outputs": [],
      "source": [
        "import datetime\n\nimport astropy.units as u\nimport matplotlib.pyplot as plt\nimport numpy as np\nimport sunpy.coordinates\nimport sunpy.map\nfrom sunpy.net import Fido\nfrom sunpy.net import attrs as a\n\nimport punchbowl.data.sample as samples"
      ]
    },
    {
      "cell_type": "markdown",
      "metadata": {},
      "source": [
        "## Load Sample PUNCH Map\n\n"
      ]
    },
    {
      "cell_type": "code",
      "execution_count": null,
      "metadata": {
        "collapsed": false
      },
      "outputs": [],
      "source": [
        "pam_file = samples.PUNCH_PAM\npam_map = sunpy.map.Map(pam_file)[0]"
      ]
    },
    {
      "cell_type": "markdown",
      "metadata": {},
      "source": [
        "## Generate Spacecraft Trajectories\n\nUses `sunpy.coordinates.get_horizons_coord`\n\n"
      ]
    },
    {
      "cell_type": "code",
      "execution_count": null,
      "metadata": {
        "collapsed": false
      },
      "outputs": [],
      "source": [
        "map_time = pam_map.observer_coordinate.obstime.to_datetime()\n\ntime_start = map_time - datetime.timedelta(days=15)\ntime_end = map_time + datetime.timedelta(days=15)\n\nparker_stonyhurst = sunpy.coordinates.get_horizons_coord('Parker Solar Probe',\n                   time={'start': time_start,\n                          'stop': time_end,\n                          'step': int((time_end-time_start).total_seconds()/3600/6) # Timestep every 6 hours\n                        })\nsolo_stonyhurst = sunpy.coordinates.get_horizons_coord('Solar Orbiter',\n                   time={'start': time_start,\n                          'stop': time_end,\n                          'step': int((time_end-time_start).total_seconds()/3600/6)\n                        })\nearth_stonyhurst = sunpy.coordinates.get_horizons_coord(399,\n                   time={'start': time_start,\n                          'stop': time_end,\n                          'step': int((time_end-time_start).total_seconds()/3600/6)\n                        })"
      ]
    },
    {
      "cell_type": "markdown",
      "metadata": {},
      "source": [
        "## Overplot Trajectories on PUNCH Field of View\n\nDistance from plane of sky is deprojected\n\n"
      ]
    },
    {
      "cell_type": "code",
      "execution_count": null,
      "metadata": {
        "collapsed": false
      },
      "outputs": [],
      "source": [
        "fig = plt.figure(figsize=(10,10))\nax = fig.add_subplot(projection=pam_map.wcs)\npam_map.plot(axes=ax,norm='log',cmap='inferno')\n\nax.plot_coord(parker_stonyhurst,marker=\"o\",ms=3,mec='black',color=\"white\",label=f\"Parker Solar Probe {time_start.date()} to {time_end.date()} \")\nax.plot_coord(solo_stonyhurst,marker=\"o\",ms=3,mec='black',color=\"red\",label=f\"Solar Orbiter {time_start.date()} to {time_end.date()} \")\n\nax.legend()\n\nplt.show()"
      ]
    },
    {
      "cell_type": "markdown",
      "metadata": {},
      "source": [
        "Plot Isometrically Assuming PUNCH Data is on the Thomson Sphere\n ---------------------------------------------------------------\n\nFirst, produce the 3D pixel values\n\n"
      ]
    },
    {
      "cell_type": "code",
      "execution_count": null,
      "metadata": {
        "collapsed": false
      },
      "outputs": [],
      "source": [
        "### Downsample for feasible 3D plotting time/computation\npam_map_lowres = pam_map.resample([512,512]*u.pix)\n\n### Get 3D Plane of Sky Cartesian Pixel Coordinates\ncoords=sunpy.map.all_coordinates_from_map(pam_map_lowres)\ncoords.representation_type='cartesian'\n\n### Project to Thomson Sphere\nrall =np.linalg.norm([coords.x,coords.y,coords.z],axis=0)\nrhoall = np.linalg.norm([coords.y,coords.z],axis=0)\ncosalpha = np.sqrt(1 - (rhoall/rall)**2)\n\nxthomp = coords.x*u.au.to(\"R_sun\")*cosalpha\nythomp = coords.y*u.au.to(\"R_sun\")*cosalpha\nzthomp = coords.z*u.au.to(\"R_sun\")*cosalpha"
      ]
    },
    {
      "cell_type": "markdown",
      "metadata": {},
      "source": [
        "### Do plot\n\n"
      ]
    },
    {
      "cell_type": "code",
      "execution_count": null,
      "metadata": {
        "collapsed": false
      },
      "outputs": [],
      "source": [
        "fig = plt.figure(figsize=(10,10))\nax = fig.add_subplot(projection='3d')\n\n### Plot the PUNCH data\nax.scatter(215-xthomp,ythomp,zthomp,c=np.log10(pam_map_lowres.data), cmap=\"inferno\",alpha=0.9)\n\n### Plot a wireframe grid showing the full thomson sphere\nuu, vv = np.meshgrid(np.linspace(0,360,25),np.linspace(-90,90,13))*u.deg\nx = 215/2* (1 + np.cos(uu)*np.cos(vv))\ny = 215/2* np.sin(uu)*np.cos(vv)\nz = 215/2*np.sin(vv)\nax.plot_wireframe(215-x, y, z, color=\"black\",alpha=0.1)\n\n### Plot Parker Solar Probe\nparker_stonyhurst.representation_type=\"cartesian\"\nax.plot(parker_stonyhurst.x.to(\"R_sun\"),\n        parker_stonyhurst.y.to(\"R_sun\"),\n        parker_stonyhurst.z.to(\"R_sun\"),\n        marker=\"o\",ms=2,mec='black',mfc=\"white\",color=\"red\",label=f\"Parker Solar Probe {time_start.date()} to {time_end.date()} \",\n        zorder=10\n       )\n\n### Plot Solar Orbiter\nsolo_stonyhurst.representation_type=\"cartesian\"\nax.plot(solo_stonyhurst.x.to(\"R_sun\"),\n        solo_stonyhurst.y.to(\"R_sun\"),\n        solo_stonyhurst.z.to(\"R_sun\"),\n        marker=\"o\",ms=2,mec='black',mfc=\"blue\",color=\"blue\",label=f\"Solar Orbiter {time_start.date()} to {time_end.date()} \",\n        zorder=10\n       )\n\n### Plot Earth\nax.scatter(215,0,0,marker=\"o\",color=\"green\",ec=\"black\",s=8,label=\"Earth\")\n\n### Point Camera\nax.view_init(20,-5)\n\n### Control Aspect Ratio\nzoom = 200\nax.set_xlim(-zoom,zoom)\nax.set_ylim(-zoom,zoom)\nax.set_zlim(-zoom,zoom)\n\nax.legend()\n\nax.set_xlabel(\"X-HEE (Rs)\")\nax.set_ylabel(\"Y-HEE (Rs)\")\nax.set_zlabel(\"Z-HEE (Rs)\")\n\nplt.show()"
      ]
    }
  ],
  "metadata": {
    "kernelspec": {
      "display_name": "Python 3",
      "language": "python",
      "name": "python3"
    },
    "language_info": {
      "codemirror_mode": {
        "name": "ipython",
        "version": 3
      },
      "file_extension": ".py",
      "mimetype": "text/x-python",
      "name": "python",
      "nbconvert_exporter": "python",
      "pygments_lexer": "ipython3",
      "version": "3.12.11"
    }
  },
  "nbformat": 4,
  "nbformat_minor": 0
}