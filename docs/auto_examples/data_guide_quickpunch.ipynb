{
  "cells": [
    {
      "cell_type": "markdown",
      "metadata": {},
      "source": [
        "\n# Guide to QuickPUNCH Data\n\nA notebook guide to working with QuickPUNCH data in Python\n"
      ]
    },
    {
      "cell_type": "markdown",
      "metadata": {},
      "source": [
        "Load libraries\n\n"
      ]
    },
    {
      "cell_type": "code",
      "execution_count": null,
      "metadata": {
        "collapsed": false
      },
      "outputs": [],
      "source": [
        "import astropy.units as u\nimport matplotlib.pyplot as plt\nimport numpy as np\nfrom astropy.io import fits\nfrom astropy.wcs import WCS\nfrom ndcube import NDCube\nfrom sunpy.map import Map\n\nfrom punchbowl.data.sample import QUICKPUNCH_NQN, QUICKPUNCH_WQM"
      ]
    },
    {
      "cell_type": "markdown",
      "metadata": {},
      "source": [
        "Open the HDU list, and read out the appropriate data\nAs the data is RICE compressed, the *second* HDU contains the main data frame\nThe third HDU contains a corresponding uncertainty array\n\n"
      ]
    },
    {
      "cell_type": "code",
      "execution_count": null,
      "metadata": {
        "collapsed": false
      },
      "outputs": [],
      "source": [
        "with fits.open(QUICKPUNCH_WQM) as hdul:\n    print(\"WFI QuickPUNCH HDU List:\")\n    hdul.info()\n    wfi_qp_data = hdul[1].data\n    wfi_qp_header = hdul[1].header\n    wfi_qp_uncertainty = hdul[2].data\n\nwith fits.open(QUICKPUNCH_NQN) as hdul:\n    print(\"NFI QuickPUNCH HDU List:\")\n    hdul.info()\n    nfi_qp_data = hdul[1].data\n    nfi_qp_header = hdul[1].header\n    nfi_qp_uncertainty = hdul[2].data"
      ]
    },
    {
      "cell_type": "markdown",
      "metadata": {},
      "source": [
        "The primary data arrays are stored as standard ndarrays\nThe uncertainty data array has the dimensions as the primary data array\nBoth the primary and uncertainty data arrays share the same header, contained in the primary HDU\n\n"
      ]
    },
    {
      "cell_type": "code",
      "execution_count": null,
      "metadata": {
        "collapsed": false
      },
      "outputs": [],
      "source": [
        "print(\"WFI data array size:\", wfi_qp_data.shape)\nprint(\"WFI uncertainty array size:\", wfi_qp_uncertainty.shape)"
      ]
    },
    {
      "cell_type": "markdown",
      "metadata": {},
      "source": [
        "The corresponding headers can be queried as AstroPy header objects\n\n"
      ]
    },
    {
      "cell_type": "code",
      "execution_count": null,
      "metadata": {
        "collapsed": false
      },
      "outputs": [],
      "source": [
        "wfi_qp_header[\"DATE-OBS\"]"
      ]
    },
    {
      "cell_type": "markdown",
      "metadata": {},
      "source": [
        "The header information can be converted into an AstroPy WCS object\n\n"
      ]
    },
    {
      "cell_type": "code",
      "execution_count": null,
      "metadata": {
        "collapsed": false
      },
      "outputs": [],
      "source": [
        "wfi_qp_data_wcs = WCS(wfi_qp_header)\nnfi_qp_data_wcs = WCS(nfi_qp_header)"
      ]
    },
    {
      "cell_type": "markdown",
      "metadata": {},
      "source": [
        "Construct a SunPy Map object of out this data\n\n"
      ]
    },
    {
      "cell_type": "code",
      "execution_count": null,
      "metadata": {
        "collapsed": false
      },
      "outputs": [],
      "source": [
        "wfi_qp_data_map = Map(wfi_qp_data, wfi_qp_header)\nnfi_qp_data_map = Map(nfi_qp_data, nfi_qp_header)"
      ]
    },
    {
      "cell_type": "markdown",
      "metadata": {},
      "source": [
        "Display this SunPy Map object\n\n"
      ]
    },
    {
      "cell_type": "code",
      "execution_count": null,
      "metadata": {
        "collapsed": false
      },
      "outputs": [],
      "source": [
        "wfi_qp_data_map"
      ]
    },
    {
      "cell_type": "markdown",
      "metadata": {},
      "source": [
        "Display this SunPy Map object\n\n"
      ]
    },
    {
      "cell_type": "code",
      "execution_count": null,
      "metadata": {
        "collapsed": false
      },
      "outputs": [],
      "source": [
        "nfi_qp_data_map"
      ]
    },
    {
      "cell_type": "markdown",
      "metadata": {},
      "source": [
        "Construct an NDCube object out of this data\n\n"
      ]
    },
    {
      "cell_type": "code",
      "execution_count": null,
      "metadata": {
        "collapsed": false
      },
      "outputs": [],
      "source": [
        "wfi_qp_data_ndcube = NDCube(wfi_qp_data, wcs=wfi_qp_data_wcs)\nnfi_qp_data_ndcube = NDCube(nfi_qp_data, wcs=nfi_qp_data_wcs)"
      ]
    },
    {
      "cell_type": "markdown",
      "metadata": {},
      "source": [
        "Take a quick look at these NDCube objects\n\n"
      ]
    },
    {
      "cell_type": "code",
      "execution_count": null,
      "metadata": {
        "collapsed": false
      },
      "outputs": [],
      "source": [
        "wfi_qp_data_ndcube, nfi_qp_data_ndcube"
      ]
    },
    {
      "cell_type": "markdown",
      "metadata": {},
      "source": [
        "Display this data in a regular plotting environment, using the associated WCS\n\n"
      ]
    },
    {
      "cell_type": "code",
      "execution_count": null,
      "metadata": {
        "collapsed": false
      },
      "outputs": [],
      "source": [
        "plt.figure(figsize=(7.5, 7.5))\nax = plt.subplot(111, projection=wfi_qp_data_wcs)\nplt.imshow(np.log(wfi_qp_data), cmap=\"Greys_r\", vmin=-16, vmax=0)\nlon, lat = ax.coords\nlat.set_ticks(np.arange(-90, 90, 5) * u.degree)\nlon.set_ticks(np.arange(-180, 180, 5) * u.degree)\nlat.set_major_formatter(\"dd\")\nlon.set_major_formatter(\"dd\")\nax.set_facecolor(\"black\")\nax.coords.grid(color=\"white\", alpha=.1)\nplt.xlabel(\"Helioprojective longitude\")\nplt.ylabel(\"Helioprojective latitude\")\nplt.scatter(0, 0, s=240, color=\"k\", transform=ax.get_transform(\"world\"))\nplt.title(\"QuickPUNCH Mosaic total brightness - \" + wfi_qp_header[\"DATE-OBS\"] + \"UT\")"
      ]
    },
    {
      "cell_type": "markdown",
      "metadata": {},
      "source": [
        "Display this data in a regular plotting environment, using the associated WCS\n\n"
      ]
    },
    {
      "cell_type": "code",
      "execution_count": null,
      "metadata": {
        "collapsed": false
      },
      "outputs": [],
      "source": [
        "plt.figure(figsize=(7.5, 7.5))\nax = plt.subplot(111, projection=nfi_qp_data_wcs)\nplt.imshow(np.log(nfi_qp_data), cmap=\"Greys_r\", vmin=-16, vmax=0)\nlon, lat = ax.coords\nlat.set_ticks(np.arange(-90, 90, 5) * u.degree)\nlon.set_ticks(np.arange(-180, 180, 5) * u.degree)\nlat.set_major_formatter(\"dd\")\nlon.set_major_formatter(\"dd\")\nax.set_facecolor(\"black\")\nax.coords.grid(color=\"white\", alpha=.1)\nplt.xlabel(\"Helioprojective longitude\")\nplt.ylabel(\"Helioprojective latitude\")\nplt.scatter(0, 0, s=240, color=\"k\", transform=ax.get_transform(\"world\"))\nplt.title(\"QuickPUNCH NFI total brightness - \" + nfi_qp_header[\"DATE-OBS\"] + \"UT\")"
      ]
    },
    {
      "cell_type": "markdown",
      "metadata": {},
      "source": [
        "Again noting that these files are compressed, additional keywords will be visible when viewing these FITS files outside of Python.\nThese keywords relate to the compression implementation, and can be retrieved using astropy.io.fits, if needed, using the disable_image_compression keyword.\n\n"
      ]
    },
    {
      "cell_type": "code",
      "execution_count": null,
      "metadata": {
        "collapsed": false
      },
      "outputs": [],
      "source": [
        "with fits.open(QUICKPUNCH_WQM, disable_image_compression=True) as hdul:\n    header_compression = hdul[1].header\n\nheader_compression"
      ]
    }
  ],
  "metadata": {
    "kernelspec": {
      "display_name": "Python 3",
      "language": "python",
      "name": "python3"
    },
    "language_info": {
      "codemirror_mode": {
        "name": "ipython",
        "version": 3
      },
      "file_extension": ".py",
      "mimetype": "text/x-python",
      "name": "python",
      "nbconvert_exporter": "python",
      "pygments_lexer": "ipython3",
      "version": "3.12.11"
    }
  },
  "nbformat": 4,
  "nbformat_minor": 0
}